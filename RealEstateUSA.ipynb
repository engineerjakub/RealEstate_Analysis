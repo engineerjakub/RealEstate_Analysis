{
 "cells": [
  {
   "cell_type": "code",
   "execution_count": 2,
   "metadata": {},
   "outputs": [],
   "source": [
    "import numpy as np\n",
    "import pandas as pd\n",
    "import sklearn as sk"
   ]
  },
  {
   "cell_type": "markdown",
   "metadata": {
    "colab_type": "text",
    "id": "_iIy8cEHyAOs"
   },
   "source": [
    "## Problem\n",
    "\n",
    "In this exercise, we imagine we have been hired by a Real State company interested in investing in the State of California, USA. They want to **predict the median housing price in a district** to assess if it's worth to buy property in a given district. Currently, a team of experts do it manually, but a recent evaluation found that they were off by 30%.... prompting management to approve your hiring to improve the situation. They would like to start the experiment using census data, that is openly available and includes the per district median house pricing at a given year, plus additional demographic information such as population, median income and median age of the houses.\n"
   ]
  },
  {
   "cell_type": "code",
   "execution_count": 3,
   "metadata": {
    "colab": {},
    "colab_type": "code",
    "id": "RCSZTHAPyAOt"
   },
   "outputs": [],
   "source": [
    "from pathlib import Path\n",
    "import tarfile\n",
    "import urllib.request\n",
    "\n",
    "def load_housing_data():\n",
    "    tarball_path = Path(\"datasets/housing.tgz\")\n",
    "    if not tarball_path.is_file():\n",
    "        Path(\"datasets\").mkdir(parents=True, exist_ok=True)\n",
    "        url = \"https://github.com/ageron/data/raw/main/housing.tgz\"\n",
    "        urllib.request.urlretrieve(url, tarball_path)\n",
    "        with tarfile.open(tarball_path) as housing_tarball:\n",
    "            housing_tarball.extractall(path=\"datasets\")\n",
    "    return pd.read_csv(Path(\"datasets/housing/housing.csv\"))\n",
    "\n"
   ]
  },
  {
   "cell_type": "markdown",
   "metadata": {
    "colab_type": "text",
    "id": "J5ji2f9XyAO1"
   },
   "source": [
    "## Exploring the dataset\n",
    "\n",
    "* What type of variables it has (*numerical* or *categorical*?). \n",
    "* How many data points useful for my problem?\n",
    "* Are there missing values? If so, in what variable(s)? how many?\n",
    "* Has any variable been transformed or manipulated before it got to you?    \n",
    "\n",
    "\n"
   ]
  },
  {
   "cell_type": "code",
   "execution_count": 4,
   "metadata": {
    "colab": {},
    "colab_type": "code",
    "id": "1mfOjZZSyAO1"
   },
   "outputs": [
    {
     "name": "stdout",
     "output_type": "stream",
     "text": [
      "Number of colums 10\n",
      "Number of rows 206400\n"
     ]
    }
   ],
   "source": [
    "# Number of columns and number of rows \n",
    "housing = load_housing_data()\n",
    "\n",
    "print(\"Number of colums {}\".format(len(housing.columns)))\n",
    "print(\"Number of rows {}\".format(housing.size))"
   ]
  },
  {
   "cell_type": "code",
   "execution_count": 5,
   "metadata": {},
   "outputs": [
    {
     "name": "stdout",
     "output_type": "stream",
     "text": [
      "<class 'pandas.core.frame.DataFrame'>\n",
      "RangeIndex: 20640 entries, 0 to 20639\n",
      "Data columns (total 10 columns):\n",
      " #   Column              Non-Null Count  Dtype  \n",
      "---  ------              --------------  -----  \n",
      " 0   longitude           20640 non-null  float64\n",
      " 1   latitude            20640 non-null  float64\n",
      " 2   housing_median_age  20640 non-null  float64\n",
      " 3   total_rooms         20640 non-null  float64\n",
      " 4   total_bedrooms      20433 non-null  float64\n",
      " 5   population          20640 non-null  float64\n",
      " 6   households          20640 non-null  float64\n",
      " 7   median_income       20640 non-null  float64\n",
      " 8   median_house_value  20640 non-null  float64\n",
      " 9   ocean_proximity     20640 non-null  object \n",
      "dtypes: float64(9), object(1)\n",
      "memory usage: 1.6+ MB\n"
     ]
    }
   ],
   "source": [
    "# Print a concise summary of the dataset\n",
    "housing.info()"
   ]
  },
  {
   "cell_type": "code",
   "execution_count": 6,
   "metadata": {},
   "outputs": [
    {
     "data": {
      "text/plain": [
       "<1H OCEAN     9136\n",
       "INLAND        6551\n",
       "NEAR OCEAN    2658\n",
       "NEAR BAY      2290\n",
       "ISLAND           5\n",
       "Name: ocean_proximity, dtype: int64"
      ]
     },
     "execution_count": 6,
     "metadata": {},
     "output_type": "execute_result"
    }
   ],
   "source": [
    " # List the different values of the categorical variable in 'housing' and count the occurences\n",
    "\n",
    "housing[\"ocean_proximity\"].value_counts()"
   ]
  },
  {
   "cell_type": "code",
   "execution_count": 7,
   "metadata": {},
   "outputs": [],
   "source": [
    "# One variable appears to have some null values\n",
    "# Create a dataframe with the rows that have the value of that variable = null  \n",
    "\n",
    "no_bedrooms = housing[housing['total_bedrooms'].isna()]\n"
   ]
  },
  {
   "cell_type": "code",
   "execution_count": 8,
   "metadata": {
    "colab": {},
    "colab_type": "code",
    "id": "NHLSJWGoyAO4"
   },
   "outputs": [
    {
     "data": {
      "text/html": [
       "<div>\n",
       "<style scoped>\n",
       "    .dataframe tbody tr th:only-of-type {\n",
       "        vertical-align: middle;\n",
       "    }\n",
       "\n",
       "    .dataframe tbody tr th {\n",
       "        vertical-align: top;\n",
       "    }\n",
       "\n",
       "    .dataframe thead th {\n",
       "        text-align: right;\n",
       "    }\n",
       "</style>\n",
       "<table border=\"1\" class=\"dataframe\">\n",
       "  <thead>\n",
       "    <tr style=\"text-align: right;\">\n",
       "      <th></th>\n",
       "      <th>longitude</th>\n",
       "      <th>latitude</th>\n",
       "      <th>housing_median_age</th>\n",
       "      <th>total_rooms</th>\n",
       "      <th>total_bedrooms</th>\n",
       "      <th>population</th>\n",
       "      <th>households</th>\n",
       "      <th>median_income</th>\n",
       "      <th>median_house_value</th>\n",
       "      <th>ocean_proximity</th>\n",
       "    </tr>\n",
       "  </thead>\n",
       "  <tbody>\n",
       "    <tr>\n",
       "      <th>182</th>\n",
       "      <td>-118.27</td>\n",
       "      <td>34.04</td>\n",
       "      <td>13.0</td>\n",
       "      <td>1784.0</td>\n",
       "      <td>NaN</td>\n",
       "      <td>2158.0</td>\n",
       "      <td>682.0</td>\n",
       "      <td>1.7038</td>\n",
       "      <td>118100.0</td>\n",
       "      <td>&lt;1H OCEAN</td>\n",
       "    </tr>\n",
       "    <tr>\n",
       "      <th>327</th>\n",
       "      <td>-117.65</td>\n",
       "      <td>34.04</td>\n",
       "      <td>15.0</td>\n",
       "      <td>3393.0</td>\n",
       "      <td>NaN</td>\n",
       "      <td>2039.0</td>\n",
       "      <td>611.0</td>\n",
       "      <td>3.9336</td>\n",
       "      <td>151000.0</td>\n",
       "      <td>INLAND</td>\n",
       "    </tr>\n",
       "    <tr>\n",
       "      <th>366</th>\n",
       "      <td>-122.50</td>\n",
       "      <td>37.75</td>\n",
       "      <td>44.0</td>\n",
       "      <td>1819.0</td>\n",
       "      <td>NaN</td>\n",
       "      <td>1137.0</td>\n",
       "      <td>354.0</td>\n",
       "      <td>3.4919</td>\n",
       "      <td>271800.0</td>\n",
       "      <td>NEAR OCEAN</td>\n",
       "    </tr>\n",
       "    <tr>\n",
       "      <th>477</th>\n",
       "      <td>-117.99</td>\n",
       "      <td>34.14</td>\n",
       "      <td>30.0</td>\n",
       "      <td>2346.0</td>\n",
       "      <td>NaN</td>\n",
       "      <td>1988.0</td>\n",
       "      <td>474.0</td>\n",
       "      <td>2.5625</td>\n",
       "      <td>153000.0</td>\n",
       "      <td>INLAND</td>\n",
       "    </tr>\n",
       "    <tr>\n",
       "      <th>495</th>\n",
       "      <td>-114.59</td>\n",
       "      <td>34.83</td>\n",
       "      <td>41.0</td>\n",
       "      <td>812.0</td>\n",
       "      <td>NaN</td>\n",
       "      <td>375.0</td>\n",
       "      <td>158.0</td>\n",
       "      <td>1.7083</td>\n",
       "      <td>48500.0</td>\n",
       "      <td>INLAND</td>\n",
       "    </tr>\n",
       "  </tbody>\n",
       "</table>\n",
       "</div>"
      ],
      "text/plain": [
       "     longitude  latitude  housing_median_age  total_rooms  total_bedrooms  \\\n",
       "182    -118.27     34.04                13.0       1784.0             NaN   \n",
       "327    -117.65     34.04                15.0       3393.0             NaN   \n",
       "366    -122.50     37.75                44.0       1819.0             NaN   \n",
       "477    -117.99     34.14                30.0       2346.0             NaN   \n",
       "495    -114.59     34.83                41.0        812.0             NaN   \n",
       "\n",
       "     population  households  median_income  median_house_value ocean_proximity  \n",
       "182      2158.0       682.0         1.7038            118100.0       <1H OCEAN  \n",
       "327      2039.0       611.0         3.9336            151000.0          INLAND  \n",
       "366      1137.0       354.0         3.4919            271800.0      NEAR OCEAN  \n",
       "477      1988.0       474.0         2.5625            153000.0          INLAND  \n",
       "495       375.0       158.0         1.7083             48500.0          INLAND  "
      ]
     },
     "execution_count": 8,
     "metadata": {},
     "output_type": "execute_result"
    }
   ],
   "source": [
    "no_bedrooms.head()"
   ]
  },
  {
   "cell_type": "code",
   "execution_count": 9,
   "metadata": {
    "colab": {},
    "colab_type": "code",
    "id": "czt7hWfEyAO7"
   },
   "outputs": [
    {
     "data": {
      "text/html": [
       "<div>\n",
       "<style scoped>\n",
       "    .dataframe tbody tr th:only-of-type {\n",
       "        vertical-align: middle;\n",
       "    }\n",
       "\n",
       "    .dataframe tbody tr th {\n",
       "        vertical-align: top;\n",
       "    }\n",
       "\n",
       "    .dataframe thead th {\n",
       "        text-align: right;\n",
       "    }\n",
       "</style>\n",
       "<table border=\"1\" class=\"dataframe\">\n",
       "  <thead>\n",
       "    <tr style=\"text-align: right;\">\n",
       "      <th></th>\n",
       "      <th>longitude</th>\n",
       "      <th>latitude</th>\n",
       "      <th>housing_median_age</th>\n",
       "      <th>total_rooms</th>\n",
       "      <th>total_bedrooms</th>\n",
       "      <th>population</th>\n",
       "      <th>households</th>\n",
       "      <th>median_income</th>\n",
       "      <th>median_house_value</th>\n",
       "    </tr>\n",
       "  </thead>\n",
       "  <tbody>\n",
       "    <tr>\n",
       "      <th>count</th>\n",
       "      <td>20640.000000</td>\n",
       "      <td>20640.000000</td>\n",
       "      <td>20640.000000</td>\n",
       "      <td>20640.000000</td>\n",
       "      <td>20433.000000</td>\n",
       "      <td>20640.000000</td>\n",
       "      <td>20640.000000</td>\n",
       "      <td>20640.000000</td>\n",
       "      <td>20640.000000</td>\n",
       "    </tr>\n",
       "    <tr>\n",
       "      <th>mean</th>\n",
       "      <td>-119.569704</td>\n",
       "      <td>35.631861</td>\n",
       "      <td>28.639486</td>\n",
       "      <td>2635.763081</td>\n",
       "      <td>537.870553</td>\n",
       "      <td>1425.476744</td>\n",
       "      <td>499.539680</td>\n",
       "      <td>3.870671</td>\n",
       "      <td>206855.816909</td>\n",
       "    </tr>\n",
       "    <tr>\n",
       "      <th>std</th>\n",
       "      <td>2.003532</td>\n",
       "      <td>2.135952</td>\n",
       "      <td>12.585558</td>\n",
       "      <td>2181.615252</td>\n",
       "      <td>421.385070</td>\n",
       "      <td>1132.462122</td>\n",
       "      <td>382.329753</td>\n",
       "      <td>1.899822</td>\n",
       "      <td>115395.615874</td>\n",
       "    </tr>\n",
       "    <tr>\n",
       "      <th>min</th>\n",
       "      <td>-124.350000</td>\n",
       "      <td>32.540000</td>\n",
       "      <td>1.000000</td>\n",
       "      <td>2.000000</td>\n",
       "      <td>1.000000</td>\n",
       "      <td>3.000000</td>\n",
       "      <td>1.000000</td>\n",
       "      <td>0.499900</td>\n",
       "      <td>14999.000000</td>\n",
       "    </tr>\n",
       "    <tr>\n",
       "      <th>25%</th>\n",
       "      <td>-121.800000</td>\n",
       "      <td>33.930000</td>\n",
       "      <td>18.000000</td>\n",
       "      <td>1447.750000</td>\n",
       "      <td>296.000000</td>\n",
       "      <td>787.000000</td>\n",
       "      <td>280.000000</td>\n",
       "      <td>2.563400</td>\n",
       "      <td>119600.000000</td>\n",
       "    </tr>\n",
       "    <tr>\n",
       "      <th>50%</th>\n",
       "      <td>-118.490000</td>\n",
       "      <td>34.260000</td>\n",
       "      <td>29.000000</td>\n",
       "      <td>2127.000000</td>\n",
       "      <td>435.000000</td>\n",
       "      <td>1166.000000</td>\n",
       "      <td>409.000000</td>\n",
       "      <td>3.534800</td>\n",
       "      <td>179700.000000</td>\n",
       "    </tr>\n",
       "    <tr>\n",
       "      <th>75%</th>\n",
       "      <td>-118.010000</td>\n",
       "      <td>37.710000</td>\n",
       "      <td>37.000000</td>\n",
       "      <td>3148.000000</td>\n",
       "      <td>647.000000</td>\n",
       "      <td>1725.000000</td>\n",
       "      <td>605.000000</td>\n",
       "      <td>4.743250</td>\n",
       "      <td>264725.000000</td>\n",
       "    </tr>\n",
       "    <tr>\n",
       "      <th>max</th>\n",
       "      <td>-114.310000</td>\n",
       "      <td>41.950000</td>\n",
       "      <td>52.000000</td>\n",
       "      <td>39320.000000</td>\n",
       "      <td>6445.000000</td>\n",
       "      <td>35682.000000</td>\n",
       "      <td>6082.000000</td>\n",
       "      <td>15.000100</td>\n",
       "      <td>500001.000000</td>\n",
       "    </tr>\n",
       "  </tbody>\n",
       "</table>\n",
       "</div>"
      ],
      "text/plain": [
       "          longitude      latitude  housing_median_age   total_rooms  \\\n",
       "count  20640.000000  20640.000000        20640.000000  20640.000000   \n",
       "mean    -119.569704     35.631861           28.639486   2635.763081   \n",
       "std        2.003532      2.135952           12.585558   2181.615252   \n",
       "min     -124.350000     32.540000            1.000000      2.000000   \n",
       "25%     -121.800000     33.930000           18.000000   1447.750000   \n",
       "50%     -118.490000     34.260000           29.000000   2127.000000   \n",
       "75%     -118.010000     37.710000           37.000000   3148.000000   \n",
       "max     -114.310000     41.950000           52.000000  39320.000000   \n",
       "\n",
       "       total_bedrooms    population    households  median_income  \\\n",
       "count    20433.000000  20640.000000  20640.000000   20640.000000   \n",
       "mean       537.870553   1425.476744    499.539680       3.870671   \n",
       "std        421.385070   1132.462122    382.329753       1.899822   \n",
       "min          1.000000      3.000000      1.000000       0.499900   \n",
       "25%        296.000000    787.000000    280.000000       2.563400   \n",
       "50%        435.000000   1166.000000    409.000000       3.534800   \n",
       "75%        647.000000   1725.000000    605.000000       4.743250   \n",
       "max       6445.000000  35682.000000   6082.000000      15.000100   \n",
       "\n",
       "       median_house_value  \n",
       "count        20640.000000  \n",
       "mean        206855.816909  \n",
       "std         115395.615874  \n",
       "min          14999.000000  \n",
       "25%         119600.000000  \n",
       "50%         179700.000000  \n",
       "75%         264725.000000  \n",
       "max         500001.000000  "
      ]
     },
     "execution_count": 9,
     "metadata": {},
     "output_type": "execute_result"
    }
   ],
   "source": [
    "# generate descriptive statistics of the housing dataset \n",
    "housing.describe()"
   ]
  },
  {
   "cell_type": "code",
   "execution_count": 10,
   "metadata": {
    "colab": {},
    "colab_type": "code",
    "id": "65JMniM4yAPA"
   },
   "outputs": [
    {
     "data": {
      "text/plain": [
       "array([[<AxesSubplot:title={'center':'longitude'}>,\n",
       "        <AxesSubplot:title={'center':'latitude'}>,\n",
       "        <AxesSubplot:title={'center':'housing_median_age'}>],\n",
       "       [<AxesSubplot:title={'center':'total_rooms'}>,\n",
       "        <AxesSubplot:title={'center':'total_bedrooms'}>,\n",
       "        <AxesSubplot:title={'center':'population'}>],\n",
       "       [<AxesSubplot:title={'center':'households'}>,\n",
       "        <AxesSubplot:title={'center':'median_income'}>,\n",
       "        <AxesSubplot:title={'center':'median_house_value'}>]],\n",
       "      dtype=object)"
      ]
     },
     "execution_count": 10,
     "metadata": {},
     "output_type": "execute_result"
    },
    {
     "data": {
      "image/png": "[encoded data removed]",
      "text/plain": [
       "<Figure size 1440x1080 with 9 Axes>"
      ]
     },
     "metadata": {
      "needs_background": "light"
     },
     "output_type": "display_data"
    }
   ],
   "source": [
    "# Another way to get more insight is by plotting histograms\n",
    "housing.hist(bins=50, figsize=(20,15)) "
   ]
  },
  {
   "cell_type": "markdown",
   "metadata": {
    "colab_type": "text",
    "id": "X5F4OdFYyAPC"
   },
   "source": [
    "* The type of variables it has (*numerical* or *categorical*?): \n",
    "    6 numerical, 2 geographical, 1 categorical \n",
    "* How many data points useful for my problem?\n",
    "    Initially all 20640, because all contain the target variable median_house_value:   \n",
    "* Are there missing values? If so, in what variable(s)? how many?:\n",
    "    207 data points miss the total_bedrooms variable. If we believe total_bedrooms a useful feature for our model, something will have to be done with those data points.\n",
    "* Has any variable been transformed or manipulated before it got to you? :   \n",
    "   This one is for you ;). Based on the stats and the histograms, what three variables have been manipulated before you? (hint, two of them have the same problem)\n",
    "   \n",
    "  1. median income has very low values, it has been scaled by 10000 and capped at max. 15 (150000) and min 0.5 (5000)\n",
    "  2. housing_median_age has been capped at max 52 years \n",
    "  3. median_house_value has been capped at max 500000"
   ]
  },
  {
   "cell_type": "code",
   "execution_count": 11,
   "metadata": {},
   "outputs": [
    {
     "data": {
      "text/plain": [
       "<AxesSubplot:>"
      ]
     },
     "execution_count": 11,
     "metadata": {},
     "output_type": "execute_result"
    },
    {
     "data": {
      "image/png": "[encoded data removed]",
      "text/plain": [
       "<Figure size 432x288 with 1 Axes>"
      ]
     },
     "metadata": {
      "needs_background": "light"
     },
     "output_type": "display_data"
    }
   ],
   "source": [
    "# We use a boxplot\n",
    "housing.boxplot(column='median_house_value')\n",
    "\n",
    "# There are no outliers, so we should use RSME, but the max cap creates another issue\n"
   ]
  },
  {
   "cell_type": "markdown",
   "metadata": {
    "colab_type": "text",
    "id": "4U4r6lDKyAPE"
   },
   "source": [
    "## Data cleaning: missing values and capped values\n",
    "\n",
    "Our exploration concludes that we have one variable with missing values, two variables with capped values (including the target one) and one scaled down variable. The most important issue is the cap on the target variable. Models may learn that prices never go beyond that limit. You need to check with your client team (the team that will use your system’s output) to see if this is a problem or not. If they tell you that they need precise predictions even beyond $500,000, then you have two options:\n",
    "\n",
    " 1. Collect proper labels for the districts whose labels were capped.\n",
    " 2. Remove those districts from the training set (and also from the test set, since your system should not be evaluated poorly if it predicts values beyond $500,000).\n",
    " \n",
    " The second most important issue is missing data in a variable, the options are, in order of consideration,:\n",
    " \n",
    "  1. Collect proper labels for those districts\n",
    "  2. Decide that you don't use that variable as a feature of your model \n",
    "  3. Replace the null value with a sensible non-null value\n",
    "  4. Discard all data points with null-values  \n",
    "  \n",
    "  \n",
    "  Sadly, we already know option (1) is too expensive in our case, we can't run the census again on those districts. \n",
    "  \n",
    "  To assess option (2) you need a combination of technical and business knowledge. From a technical point of view, you can calculate the correlation between the target variable and the variable you are considering discarding. "
   ]
  },
  {
   "cell_type": "markdown",
   "metadata": {},
   "source": [
    "Correlation is quite low, but that cannot be the only factor, you need business. Jim from Business confirms that despite the fact that there is low correlation total_bedrooms is something they can predict accurately in the future, so they are keen to check if it's an useful variable or not and they'd rather you keep it. They also confirm there is no sensible non-null value to replace the missing data, so you are left with option (4), discard the null data points. \n",
    "\n",
    "Furthermore, they'd also like to have predictions for housing ages greater than 52 and house values greater than 500k, so those data points must go too. Jim is sorry about all the extra work for you. You hang up the Teams call.\n"
   ]
  },
  {
   "cell_type": "code",
   "execution_count": 13,
   "metadata": {
    "colab": {},
    "colab_type": "code",
    "id": "0Q6tCiuByAPE"
   },
   "outputs": [
    {
     "data": {
      "text/html": [
       "<div>\n",
       "<style scoped>\n",
       "    .dataframe tbody tr th:only-of-type {\n",
       "        vertical-align: middle;\n",
       "    }\n",
       "\n",
       "    .dataframe tbody tr th {\n",
       "        vertical-align: top;\n",
       "    }\n",
       "\n",
       "    .dataframe thead th {\n",
       "        text-align: right;\n",
       "    }\n",
       "</style>\n",
       "<table border=\"1\" class=\"dataframe\">\n",
       "  <thead>\n",
       "    <tr style=\"text-align: right;\">\n",
       "      <th></th>\n",
       "      <th>longitude</th>\n",
       "      <th>latitude</th>\n",
       "      <th>housing_median_age</th>\n",
       "      <th>total_rooms</th>\n",
       "      <th>total_bedrooms</th>\n",
       "      <th>population</th>\n",
       "      <th>households</th>\n",
       "      <th>median_income</th>\n",
       "      <th>median_house_value</th>\n",
       "      <th>ocean_proximity</th>\n",
       "    </tr>\n",
       "  </thead>\n",
       "  <tbody>\n",
       "    <tr>\n",
       "      <th>0</th>\n",
       "      <td>-122.23</td>\n",
       "      <td>37.88</td>\n",
       "      <td>41.0</td>\n",
       "      <td>880.0</td>\n",
       "      <td>129.0</td>\n",
       "      <td>322.0</td>\n",
       "      <td>126.0</td>\n",
       "      <td>8.3252</td>\n",
       "      <td>452600.0</td>\n",
       "      <td>NEAR BAY</td>\n",
       "    </tr>\n",
       "    <tr>\n",
       "      <th>1</th>\n",
       "      <td>-122.22</td>\n",
       "      <td>37.86</td>\n",
       "      <td>21.0</td>\n",
       "      <td>7099.0</td>\n",
       "      <td>1106.0</td>\n",
       "      <td>2401.0</td>\n",
       "      <td>1138.0</td>\n",
       "      <td>8.3014</td>\n",
       "      <td>358500.0</td>\n",
       "      <td>NEAR BAY</td>\n",
       "    </tr>\n",
       "    <tr>\n",
       "      <th>2</th>\n",
       "      <td>-122.26</td>\n",
       "      <td>37.84</td>\n",
       "      <td>42.0</td>\n",
       "      <td>2555.0</td>\n",
       "      <td>665.0</td>\n",
       "      <td>1206.0</td>\n",
       "      <td>595.0</td>\n",
       "      <td>2.0804</td>\n",
       "      <td>226700.0</td>\n",
       "      <td>NEAR BAY</td>\n",
       "    </tr>\n",
       "    <tr>\n",
       "      <th>3</th>\n",
       "      <td>-122.26</td>\n",
       "      <td>37.85</td>\n",
       "      <td>50.0</td>\n",
       "      <td>1120.0</td>\n",
       "      <td>283.0</td>\n",
       "      <td>697.0</td>\n",
       "      <td>264.0</td>\n",
       "      <td>2.1250</td>\n",
       "      <td>140000.0</td>\n",
       "      <td>NEAR BAY</td>\n",
       "    </tr>\n",
       "    <tr>\n",
       "      <th>4</th>\n",
       "      <td>-122.26</td>\n",
       "      <td>37.84</td>\n",
       "      <td>50.0</td>\n",
       "      <td>2239.0</td>\n",
       "      <td>455.0</td>\n",
       "      <td>990.0</td>\n",
       "      <td>419.0</td>\n",
       "      <td>1.9911</td>\n",
       "      <td>158700.0</td>\n",
       "      <td>NEAR BAY</td>\n",
       "    </tr>\n",
       "  </tbody>\n",
       "</table>\n",
       "</div>"
      ],
      "text/plain": [
       "   longitude  latitude  housing_median_age  total_rooms  total_bedrooms  \\\n",
       "0    -122.23     37.88                41.0        880.0           129.0   \n",
       "1    -122.22     37.86                21.0       7099.0          1106.0   \n",
       "2    -122.26     37.84                42.0       2555.0           665.0   \n",
       "3    -122.26     37.85                50.0       1120.0           283.0   \n",
       "4    -122.26     37.84                50.0       2239.0           455.0   \n",
       "\n",
       "   population  households  median_income  median_house_value ocean_proximity  \n",
       "0       322.0       126.0         8.3252            452600.0        NEAR BAY  \n",
       "1      2401.0      1138.0         8.3014            358500.0        NEAR BAY  \n",
       "2      1206.0       595.0         2.0804            226700.0        NEAR BAY  \n",
       "3       697.0       264.0         2.1250            140000.0        NEAR BAY  \n",
       "4       990.0       419.0         1.9911            158700.0        NEAR BAY  "
      ]
     },
     "execution_count": 13,
     "metadata": {},
     "output_type": "execute_result"
    }
   ],
   "source": [
    "# Using an appropriate filter, discard data points with null total_bedrooms, housing_median_age >= 52 and median_house_value=500001  \n",
    "\n",
    "fltr_idx = housing['total_bedrooms'].notna() & (housing['housing_median_age'] < 52) & (housing['median_house_value'] < 500001) # retrieve boolean array where each value corresponds to datapoint we want\n",
    "fltr_housing = housing[fltr_idx].reset_index(drop=True) # This bit resets the indexes of the DataFrame\n",
    "fltr_housing.head()"
   ]
  },
  {
   "cell_type": "code",
   "execution_count": 14,
   "metadata": {
    "colab": {},
    "colab_type": "code",
    "id": "MMTzSZk-yAPH"
   },
   "outputs": [
    {
     "name": "stdout",
     "output_type": "stream",
     "text": [
      "<class 'pandas.core.frame.DataFrame'>\n",
      "RangeIndex: 18379 entries, 0 to 18378\n",
      "Data columns (total 10 columns):\n",
      " #   Column              Non-Null Count  Dtype  \n",
      "---  ------              --------------  -----  \n",
      " 0   longitude           18379 non-null  float64\n",
      " 1   latitude            18379 non-null  float64\n",
      " 2   housing_median_age  18379 non-null  float64\n",
      " 3   total_rooms         18379 non-null  float64\n",
      " 4   total_bedrooms      18379 non-null  float64\n",
      " 5   population          18379 non-null  float64\n",
      " 6   households          18379 non-null  float64\n",
      " 7   median_income       18379 non-null  float64\n",
      " 8   median_house_value  18379 non-null  float64\n",
      " 9   ocean_proximity     18379 non-null  object \n",
      "dtypes: float64(9), object(1)\n",
      "memory usage: 1.4+ MB\n"
     ]
    }
   ],
   "source": [
    "# We then check the descriptive stats again\n",
    "\n",
    "fltr_housing.info()"
   ]
  },
  {
   "cell_type": "code",
   "execution_count": 15,
   "metadata": {
    "colab": {},
    "colab_type": "code",
    "id": "mtFixD4_yAPJ"
   },
   "outputs": [
    {
     "data": {
      "text/html": [
       "<div>\n",
       "<style scoped>\n",
       "    .dataframe tbody tr th:only-of-type {\n",
       "        vertical-align: middle;\n",
       "    }\n",
       "\n",
       "    .dataframe tbody tr th {\n",
       "        vertical-align: top;\n",
       "    }\n",
       "\n",
       "    .dataframe thead th {\n",
       "        text-align: right;\n",
       "    }\n",
       "</style>\n",
       "<table border=\"1\" class=\"dataframe\">\n",
       "  <thead>\n",
       "    <tr style=\"text-align: right;\">\n",
       "      <th></th>\n",
       "      <th>longitude</th>\n",
       "      <th>latitude</th>\n",
       "      <th>housing_median_age</th>\n",
       "      <th>total_rooms</th>\n",
       "      <th>total_bedrooms</th>\n",
       "      <th>population</th>\n",
       "      <th>households</th>\n",
       "      <th>median_income</th>\n",
       "      <th>median_house_value</th>\n",
       "    </tr>\n",
       "  </thead>\n",
       "  <tbody>\n",
       "    <tr>\n",
       "      <th>count</th>\n",
       "      <td>18379.000000</td>\n",
       "      <td>18379.000000</td>\n",
       "      <td>18379.000000</td>\n",
       "      <td>18379.000000</td>\n",
       "      <td>18379.000000</td>\n",
       "      <td>18379.000000</td>\n",
       "      <td>18379.000000</td>\n",
       "      <td>18379.000000</td>\n",
       "      <td>18379.000000</td>\n",
       "    </tr>\n",
       "    <tr>\n",
       "      <th>mean</th>\n",
       "      <td>-119.484954</td>\n",
       "      <td>35.593833</td>\n",
       "      <td>26.969422</td>\n",
       "      <td>2669.597965</td>\n",
       "      <td>548.003972</td>\n",
       "      <td>1469.890690</td>\n",
       "      <td>508.613145</td>\n",
       "      <td>3.693698</td>\n",
       "      <td>189563.469014</td>\n",
       "    </tr>\n",
       "    <tr>\n",
       "      <th>std</th>\n",
       "      <td>1.980713</td>\n",
       "      <td>2.148148</td>\n",
       "      <td>11.433039</td>\n",
       "      <td>2227.810560</td>\n",
       "      <td>429.431372</td>\n",
       "      <td>1163.864204</td>\n",
       "      <td>389.550323</td>\n",
       "      <td>1.569676</td>\n",
       "      <td>95763.629783</td>\n",
       "    </tr>\n",
       "    <tr>\n",
       "      <th>min</th>\n",
       "      <td>-124.300000</td>\n",
       "      <td>32.540000</td>\n",
       "      <td>1.000000</td>\n",
       "      <td>2.000000</td>\n",
       "      <td>2.000000</td>\n",
       "      <td>3.000000</td>\n",
       "      <td>2.000000</td>\n",
       "      <td>0.499900</td>\n",
       "      <td>14999.000000</td>\n",
       "    </tr>\n",
       "    <tr>\n",
       "      <th>25%</th>\n",
       "      <td>-121.550000</td>\n",
       "      <td>33.920000</td>\n",
       "      <td>17.000000</td>\n",
       "      <td>1458.000000</td>\n",
       "      <td>300.000000</td>\n",
       "      <td>811.000000</td>\n",
       "      <td>284.000000</td>\n",
       "      <td>2.537000</td>\n",
       "      <td>115400.000000</td>\n",
       "    </tr>\n",
       "    <tr>\n",
       "      <th>50%</th>\n",
       "      <td>-118.450000</td>\n",
       "      <td>34.240000</td>\n",
       "      <td>27.000000</td>\n",
       "      <td>2142.000000</td>\n",
       "      <td>442.000000</td>\n",
       "      <td>1203.000000</td>\n",
       "      <td>416.000000</td>\n",
       "      <td>3.470500</td>\n",
       "      <td>171200.000000</td>\n",
       "    </tr>\n",
       "    <tr>\n",
       "      <th>75%</th>\n",
       "      <td>-117.970000</td>\n",
       "      <td>37.670000</td>\n",
       "      <td>36.000000</td>\n",
       "      <td>3182.000000</td>\n",
       "      <td>659.000000</td>\n",
       "      <td>1779.000000</td>\n",
       "      <td>614.000000</td>\n",
       "      <td>4.616700</td>\n",
       "      <td>243200.000000</td>\n",
       "    </tr>\n",
       "    <tr>\n",
       "      <th>max</th>\n",
       "      <td>-114.310000</td>\n",
       "      <td>41.950000</td>\n",
       "      <td>51.000000</td>\n",
       "      <td>39320.000000</td>\n",
       "      <td>6445.000000</td>\n",
       "      <td>35682.000000</td>\n",
       "      <td>6082.000000</td>\n",
       "      <td>15.000100</td>\n",
       "      <td>500000.000000</td>\n",
       "    </tr>\n",
       "  </tbody>\n",
       "</table>\n",
       "</div>"
      ],
      "text/plain": [
       "          longitude      latitude  housing_median_age   total_rooms  \\\n",
       "count  18379.000000  18379.000000        18379.000000  18379.000000   \n",
       "mean    -119.484954     35.593833           26.969422   2669.597965   \n",
       "std        1.980713      2.148148           11.433039   2227.810560   \n",
       "min     -124.300000     32.540000            1.000000      2.000000   \n",
       "25%     -121.550000     33.920000           17.000000   1458.000000   \n",
       "50%     -118.450000     34.240000           27.000000   2142.000000   \n",
       "75%     -117.970000     37.670000           36.000000   3182.000000   \n",
       "max     -114.310000     41.950000           51.000000  39320.000000   \n",
       "\n",
       "       total_bedrooms    population    households  median_income  \\\n",
       "count    18379.000000  18379.000000  18379.000000   18379.000000   \n",
       "mean       548.003972   1469.890690    508.613145       3.693698   \n",
       "std        429.431372   1163.864204    389.550323       1.569676   \n",
       "min          2.000000      3.000000      2.000000       0.499900   \n",
       "25%        300.000000    811.000000    284.000000       2.537000   \n",
       "50%        442.000000   1203.000000    416.000000       3.470500   \n",
       "75%        659.000000   1779.000000    614.000000       4.616700   \n",
       "max       6445.000000  35682.000000   6082.000000      15.000100   \n",
       "\n",
       "       median_house_value  \n",
       "count        18379.000000  \n",
       "mean        189563.469014  \n",
       "std          95763.629783  \n",
       "min          14999.000000  \n",
       "25%         115400.000000  \n",
       "50%         171200.000000  \n",
       "75%         243200.000000  \n",
       "max         500000.000000  "
      ]
     },
     "execution_count": 15,
     "metadata": {},
     "output_type": "execute_result"
    }
   ],
   "source": [
    "fltr_housing.describe()"
   ]
  },
  {
   "cell_type": "code",
   "execution_count": 16,
   "metadata": {
    "colab": {},
    "colab_type": "code",
    "id": "OoVsJ_ZByAPL"
   },
   "outputs": [
    {
     "data": {
      "text/plain": [
       "array([[<AxesSubplot:title={'center':'longitude'}>,\n",
       "        <AxesSubplot:title={'center':'latitude'}>,\n",
       "        <AxesSubplot:title={'center':'housing_median_age'}>],\n",
       "       [<AxesSubplot:title={'center':'total_rooms'}>,\n",
       "        <AxesSubplot:title={'center':'total_bedrooms'}>,\n",
       "        <AxesSubplot:title={'center':'population'}>],\n",
       "       [<AxesSubplot:title={'center':'households'}>,\n",
       "        <AxesSubplot:title={'center':'median_income'}>,\n",
       "        <AxesSubplot:title={'center':'median_house_value'}>]],\n",
       "      dtype=object)"
      ]
     },
     "execution_count": 16,
     "metadata": {},
     "output_type": "execute_result"
    },
    {
     "data": {
      "image/png": "[encoded data removed]",
      "text/plain": [
       "<Figure size 1440x1080 with 9 Axes>"
      ]
     },
     "metadata": {
      "needs_background": "light"
     },
     "output_type": "display_data"
    }
   ],
   "source": [
    "fltr_housing.hist(bins=50, figsize=(20,15)) \n",
    "\n",
    "#plt.show()"
   ]
  },
  {
   "cell_type": "markdown",
   "metadata": {
    "colab_type": "text",
    "id": "HV5SgfC7yAPP"
   },
   "source": [
    "## Dealing with categorical attributes\n",
    "\n",
    "The final data issue we have is the categorical attribute 'ocean_proximity'. Since most Machine Learning algorithms work on numerical vectors and matrices only, we need to transform the categorical attribute to a sensible numerical value that still represent its original meaning."
   ]
  },
  {
   "cell_type": "code",
   "execution_count": 17,
   "metadata": {
    "colab": {},
    "colab_type": "code",
    "id": "lpdf3ij-yAPP"
   },
   "outputs": [
    {
     "data": {
      "text/html": [
       "<div>\n",
       "<style scoped>\n",
       "    .dataframe tbody tr th:only-of-type {\n",
       "        vertical-align: middle;\n",
       "    }\n",
       "\n",
       "    .dataframe tbody tr th {\n",
       "        vertical-align: top;\n",
       "    }\n",
       "\n",
       "    .dataframe thead th {\n",
       "        text-align: right;\n",
       "    }\n",
       "</style>\n",
       "<table border=\"1\" class=\"dataframe\">\n",
       "  <thead>\n",
       "    <tr style=\"text-align: right;\">\n",
       "      <th></th>\n",
       "      <th>longitude</th>\n",
       "      <th>latitude</th>\n",
       "      <th>housing_median_age</th>\n",
       "      <th>total_rooms</th>\n",
       "      <th>total_bedrooms</th>\n",
       "      <th>population</th>\n",
       "      <th>households</th>\n",
       "      <th>median_income</th>\n",
       "      <th>median_house_value</th>\n",
       "      <th>NEAR BAY</th>\n",
       "      <th>&lt;1H OCEAN</th>\n",
       "      <th>INLAND</th>\n",
       "      <th>NEAR OCEAN</th>\n",
       "      <th>ISLAND</th>\n",
       "    </tr>\n",
       "  </thead>\n",
       "  <tbody>\n",
       "    <tr>\n",
       "      <th>0</th>\n",
       "      <td>-122.23</td>\n",
       "      <td>37.88</td>\n",
       "      <td>41.0</td>\n",
       "      <td>880.0</td>\n",
       "      <td>129.0</td>\n",
       "      <td>322.0</td>\n",
       "      <td>126.0</td>\n",
       "      <td>8.3252</td>\n",
       "      <td>452600.0</td>\n",
       "      <td>1.0</td>\n",
       "      <td>0.0</td>\n",
       "      <td>0.0</td>\n",
       "      <td>0.0</td>\n",
       "      <td>0.0</td>\n",
       "    </tr>\n",
       "    <tr>\n",
       "      <th>1</th>\n",
       "      <td>-122.22</td>\n",
       "      <td>37.86</td>\n",
       "      <td>21.0</td>\n",
       "      <td>7099.0</td>\n",
       "      <td>1106.0</td>\n",
       "      <td>2401.0</td>\n",
       "      <td>1138.0</td>\n",
       "      <td>8.3014</td>\n",
       "      <td>358500.0</td>\n",
       "      <td>1.0</td>\n",
       "      <td>0.0</td>\n",
       "      <td>0.0</td>\n",
       "      <td>0.0</td>\n",
       "      <td>0.0</td>\n",
       "    </tr>\n",
       "    <tr>\n",
       "      <th>2</th>\n",
       "      <td>-122.26</td>\n",
       "      <td>37.84</td>\n",
       "      <td>42.0</td>\n",
       "      <td>2555.0</td>\n",
       "      <td>665.0</td>\n",
       "      <td>1206.0</td>\n",
       "      <td>595.0</td>\n",
       "      <td>2.0804</td>\n",
       "      <td>226700.0</td>\n",
       "      <td>1.0</td>\n",
       "      <td>0.0</td>\n",
       "      <td>0.0</td>\n",
       "      <td>0.0</td>\n",
       "      <td>0.0</td>\n",
       "    </tr>\n",
       "    <tr>\n",
       "      <th>3</th>\n",
       "      <td>-122.26</td>\n",
       "      <td>37.85</td>\n",
       "      <td>50.0</td>\n",
       "      <td>1120.0</td>\n",
       "      <td>283.0</td>\n",
       "      <td>697.0</td>\n",
       "      <td>264.0</td>\n",
       "      <td>2.1250</td>\n",
       "      <td>140000.0</td>\n",
       "      <td>1.0</td>\n",
       "      <td>0.0</td>\n",
       "      <td>0.0</td>\n",
       "      <td>0.0</td>\n",
       "      <td>0.0</td>\n",
       "    </tr>\n",
       "    <tr>\n",
       "      <th>4</th>\n",
       "      <td>-122.26</td>\n",
       "      <td>37.84</td>\n",
       "      <td>50.0</td>\n",
       "      <td>2239.0</td>\n",
       "      <td>455.0</td>\n",
       "      <td>990.0</td>\n",
       "      <td>419.0</td>\n",
       "      <td>1.9911</td>\n",
       "      <td>158700.0</td>\n",
       "      <td>1.0</td>\n",
       "      <td>0.0</td>\n",
       "      <td>0.0</td>\n",
       "      <td>0.0</td>\n",
       "      <td>0.0</td>\n",
       "    </tr>\n",
       "  </tbody>\n",
       "</table>\n",
       "</div>"
      ],
      "text/plain": [
       "   longitude  latitude  housing_median_age  total_rooms  total_bedrooms  \\\n",
       "0    -122.23     37.88                41.0        880.0           129.0   \n",
       "1    -122.22     37.86                21.0       7099.0          1106.0   \n",
       "2    -122.26     37.84                42.0       2555.0           665.0   \n",
       "3    -122.26     37.85                50.0       1120.0           283.0   \n",
       "4    -122.26     37.84                50.0       2239.0           455.0   \n",
       "\n",
       "   population  households  median_income  median_house_value  NEAR BAY  \\\n",
       "0       322.0       126.0         8.3252            452600.0       1.0   \n",
       "1      2401.0      1138.0         8.3014            358500.0       1.0   \n",
       "2      1206.0       595.0         2.0804            226700.0       1.0   \n",
       "3       697.0       264.0         2.1250            140000.0       1.0   \n",
       "4       990.0       419.0         1.9911            158700.0       1.0   \n",
       "\n",
       "   <1H OCEAN  INLAND  NEAR OCEAN  ISLAND  \n",
       "0        0.0     0.0         0.0     0.0  \n",
       "1        0.0     0.0         0.0     0.0  \n",
       "2        0.0     0.0         0.0     0.0  \n",
       "3        0.0     0.0         0.0     0.0  \n",
       "4        0.0     0.0         0.0     0.0  "
      ]
     },
     "execution_count": 17,
     "metadata": {},
     "output_type": "execute_result"
    }
   ],
   "source": [
    "from sklearn.preprocessing import OneHotEncoder\n",
    "\n",
    "encoded_cat, categories = fltr_housing[\"ocean_proximity\"].factorize() \n",
    "encoded_cat_arr = OneHotEncoder().fit_transform(encoded_cat.reshape(-1,1)).toarray()\n",
    "enc_fltr_housing = fltr_housing.iloc[:,0:9].copy()\n",
    "for i in range(0, len(categories)):\n",
    "    enc_fltr_housing[categories[i]] = encoded_cat_arr[:,i]\n",
    "enc_fltr_housing.head()"
   ]
  },
  {
   "cell_type": "markdown",
   "metadata": {
    "colab_type": "text",
    "id": "WqOaun0MyAPT"
   },
   "source": [
    "We have just finished transforming each categorical value to a vector of binary values. As an alternative, we could have only a single numerical attribute that maps to the categories; e.g. 1 for 'NEAR BAY', 2 for '<1H OCEAN', etc. Compared to having a vector of binary values, what are the pros&cons of this approach? Will there be any problem later if we use this approach?"
   ]
  },
  {
   "cell_type": "markdown",
   "metadata": {
    "colab_type": "text",
    "id": "5iljMgBpyAPT"
   },
   "source": [
    "## Data partitioning: train set and test set\n",
    "\n",
    "A critical part of a Machine Learning project is to separate the available data into a training set and a test set. The most common way of splitting is randomly selecting a sample of 20% as the test set. However, it is important to ensure your split is reproducible, i.e, remains the same for the duration of your project. Otherwise, if you run the notebook the enxt day, you would have scrmabled everything!\n",
    "\n",
    "Use the Scikit-learn's train_test_split method to split the fltr_housing dataset in 80% training and 20% test in a reproducible manner\n",
    " \n",
    "https://scikit-learn.org/stable/modules/generated/sklearn.model_selection.train_test_split.html\n",
    "\n",
    "Note: The textbook splits the dataset earlier than us, that is indeed better but it has the caveat that if you do transformations to the training set (e.g. one hot encoding) you have to remember them so you apply them to the test set. We will cover how to do this next week."
   ]
  },
  {
   "cell_type": "code",
   "execution_count": 18,
   "metadata": {},
   "outputs": [],
   "source": [
    "from sklearn.model_selection import train_test_split\n",
    "\n",
    "train_set, test_set = train_test_split(enc_fltr_housing, test_size=0.2, random_state=42)"
   ]
  },
  {
   "cell_type": "markdown",
   "metadata": {
    "colab_type": "text",
    "id": "GbVIFbzIyAPh"
   },
   "source": [
    "## Choose and apply Machine Learning algorithm\n",
    "\n",
    "After so much work on preparing our dataset, we are ready to try our Machine Learning algorithm. Whilst there are many algorithms or *models* for regression task, let us apply the basic approach first: the Linear Regression algorithm. In many cases, a simple model such as the Linear Regression works perfectly fine. If the simple model is sufficient, then there is no need to apply complex algorithms which could require the tuning of many hyperparameters, larger number of datapoints, or longer time to train."
   ]
  },
  {
   "cell_type": "code",
   "execution_count": 19,
   "metadata": {
    "colab": {},
    "colab_type": "code",
    "id": "MtqJjV53yAPi"
   },
   "outputs": [
    {
     "name": "stdout",
     "output_type": "stream",
     "text": [
      "RMSE =  59798.23584798094\n"
     ]
    }
   ],
   "source": [
    "from sklearn.linear_model import LinearRegression\n",
    "from sklearn.metrics import mean_squared_error\n",
    "\n",
    "lnr_regressor1 = LinearRegression()\n",
    "lnr_regressor1.fit(train_set.iloc[:, [idx for idx in range(len(train_set.columns)) if idx != 8]], train_set['median_house_value'])\n",
    "prediction = lnr_regressor1.predict(test_set.iloc[:, [idx for idx in range(len(test_set.columns)) if idx != 8]])\n",
    "print('RMSE = ', np.sqrt(mean_squared_error(test_set['median_house_value'], prediction)))"
   ]
  },
  {
   "cell_type": "markdown",
   "metadata": {
    "colab_type": "text",
    "id": "LE8tfHRMyAPk"
   },
   "source": [
    "We have just trained a linear regression model based on our training set. Then, we have used it to predict the house price on our test set, and we have computed the RMSE to quantify how good our model is. Clearly, the RMSE we have got is very high. That implies that our Machine Learning algorithm is not performing well enough."
   ]
  },
  {
   "cell_type": "markdown",
   "metadata": {
    "colab_type": "text",
    "id": "9tE0OtGDyAPl"
   },
   "source": [
    "## Feature engineering\n",
    "\n",
    "We have just finished our first prototype, but it doesn't seem to work well. As someone say: 'Garbage in, Garbage out'! So, it could be the case that our dataset is not comprised of useful attributes that are going to help our Machine Learning algorithm to learn and predict well. \n",
    "\n",
    "Besides your earlier discussion with Jim about what features should be discarded, it is also possible to experiment with combinations of attributes. Speaking of Jim, he just sent you an email. He has been thinking about it and from a business perspective you don't care much about district's total rooms and total bedrooms, you care about number of rooms per houes, ratio of bedrooms over rooms, and number of people per house. Let's engineer the features and see how much our Machine Learning algorithm will improve. \n",
    "\n"
   ]
  },
  {
   "cell_type": "code",
   "execution_count": 20,
   "metadata": {
    "colab": {},
    "colab_type": "code",
    "id": "7NU3x12zyAPl"
   },
   "outputs": [
    {
     "data": {
      "text/html": [
       "<div>\n",
       "<style scoped>\n",
       "    .dataframe tbody tr th:only-of-type {\n",
       "        vertical-align: middle;\n",
       "    }\n",
       "\n",
       "    .dataframe tbody tr th {\n",
       "        vertical-align: top;\n",
       "    }\n",
       "\n",
       "    .dataframe thead th {\n",
       "        text-align: right;\n",
       "    }\n",
       "</style>\n",
       "<table border=\"1\" class=\"dataframe\">\n",
       "  <thead>\n",
       "    <tr style=\"text-align: right;\">\n",
       "      <th></th>\n",
       "      <th>longitude</th>\n",
       "      <th>latitude</th>\n",
       "      <th>housing_median_age</th>\n",
       "      <th>total_rooms</th>\n",
       "      <th>total_bedrooms</th>\n",
       "      <th>population</th>\n",
       "      <th>households</th>\n",
       "      <th>median_income</th>\n",
       "      <th>median_house_value</th>\n",
       "      <th>NEAR BAY</th>\n",
       "      <th>&lt;1H OCEAN</th>\n",
       "      <th>INLAND</th>\n",
       "      <th>NEAR OCEAN</th>\n",
       "      <th>ISLAND</th>\n",
       "      <th>room_per_house</th>\n",
       "      <th>bedroom_per_room</th>\n",
       "      <th>pop_per_house</th>\n",
       "    </tr>\n",
       "  </thead>\n",
       "  <tbody>\n",
       "    <tr>\n",
       "      <th>1310</th>\n",
       "      <td>-117.67</td>\n",
       "      <td>34.02</td>\n",
       "      <td>16.0</td>\n",
       "      <td>3042.0</td>\n",
       "      <td>524.0</td>\n",
       "      <td>1516.0</td>\n",
       "      <td>475.0</td>\n",
       "      <td>4.8906</td>\n",
       "      <td>178500.0</td>\n",
       "      <td>0.0</td>\n",
       "      <td>0.0</td>\n",
       "      <td>1.0</td>\n",
       "      <td>0.0</td>\n",
       "      <td>0.0</td>\n",
       "      <td>6.404211</td>\n",
       "      <td>0.172255</td>\n",
       "      <td>3.191579</td>\n",
       "    </tr>\n",
       "    <tr>\n",
       "      <th>16156</th>\n",
       "      <td>-117.08</td>\n",
       "      <td>33.12</td>\n",
       "      <td>43.0</td>\n",
       "      <td>107.0</td>\n",
       "      <td>44.0</td>\n",
       "      <td>107.0</td>\n",
       "      <td>48.0</td>\n",
       "      <td>0.7054</td>\n",
       "      <td>137500.0</td>\n",
       "      <td>0.0</td>\n",
       "      <td>1.0</td>\n",
       "      <td>0.0</td>\n",
       "      <td>0.0</td>\n",
       "      <td>0.0</td>\n",
       "      <td>2.229167</td>\n",
       "      <td>0.411215</td>\n",
       "      <td>2.229167</td>\n",
       "    </tr>\n",
       "    <tr>\n",
       "      <th>10301</th>\n",
       "      <td>-117.11</td>\n",
       "      <td>32.75</td>\n",
       "      <td>34.0</td>\n",
       "      <td>2131.0</td>\n",
       "      <td>594.0</td>\n",
       "      <td>1373.0</td>\n",
       "      <td>562.0</td>\n",
       "      <td>2.1130</td>\n",
       "      <td>102100.0</td>\n",
       "      <td>0.0</td>\n",
       "      <td>0.0</td>\n",
       "      <td>0.0</td>\n",
       "      <td>1.0</td>\n",
       "      <td>0.0</td>\n",
       "      <td>3.791815</td>\n",
       "      <td>0.278742</td>\n",
       "      <td>2.443060</td>\n",
       "    </tr>\n",
       "    <tr>\n",
       "      <th>8823</th>\n",
       "      <td>-118.15</td>\n",
       "      <td>34.17</td>\n",
       "      <td>36.0</td>\n",
       "      <td>930.0</td>\n",
       "      <td>280.0</td>\n",
       "      <td>1024.0</td>\n",
       "      <td>300.0</td>\n",
       "      <td>1.0846</td>\n",
       "      <td>146400.0</td>\n",
       "      <td>0.0</td>\n",
       "      <td>1.0</td>\n",
       "      <td>0.0</td>\n",
       "      <td>0.0</td>\n",
       "      <td>0.0</td>\n",
       "      <td>3.100000</td>\n",
       "      <td>0.301075</td>\n",
       "      <td>3.413333</td>\n",
       "    </tr>\n",
       "    <tr>\n",
       "      <th>10428</th>\n",
       "      <td>-117.69</td>\n",
       "      <td>33.60</td>\n",
       "      <td>12.0</td>\n",
       "      <td>3258.0</td>\n",
       "      <td>421.0</td>\n",
       "      <td>1464.0</td>\n",
       "      <td>435.0</td>\n",
       "      <td>6.5413</td>\n",
       "      <td>332000.0</td>\n",
       "      <td>0.0</td>\n",
       "      <td>1.0</td>\n",
       "      <td>0.0</td>\n",
       "      <td>0.0</td>\n",
       "      <td>0.0</td>\n",
       "      <td>7.489655</td>\n",
       "      <td>0.129220</td>\n",
       "      <td>3.365517</td>\n",
       "    </tr>\n",
       "  </tbody>\n",
       "</table>\n",
       "</div>"
      ],
      "text/plain": [
       "       longitude  latitude  housing_median_age  total_rooms  total_bedrooms  \\\n",
       "1310     -117.67     34.02                16.0       3042.0           524.0   \n",
       "16156    -117.08     33.12                43.0        107.0            44.0   \n",
       "10301    -117.11     32.75                34.0       2131.0           594.0   \n",
       "8823     -118.15     34.17                36.0        930.0           280.0   \n",
       "10428    -117.69     33.60                12.0       3258.0           421.0   \n",
       "\n",
       "       population  households  median_income  median_house_value  NEAR BAY  \\\n",
       "1310       1516.0       475.0         4.8906            178500.0       0.0   \n",
       "16156       107.0        48.0         0.7054            137500.0       0.0   \n",
       "10301      1373.0       562.0         2.1130            102100.0       0.0   \n",
       "8823       1024.0       300.0         1.0846            146400.0       0.0   \n",
       "10428      1464.0       435.0         6.5413            332000.0       0.0   \n",
       "\n",
       "       <1H OCEAN  INLAND  NEAR OCEAN  ISLAND  room_per_house  \\\n",
       "1310         0.0     1.0         0.0     0.0        6.404211   \n",
       "16156        1.0     0.0         0.0     0.0        2.229167   \n",
       "10301        0.0     0.0         1.0     0.0        3.791815   \n",
       "8823         1.0     0.0         0.0     0.0        3.100000   \n",
       "10428        1.0     0.0         0.0     0.0        7.489655   \n",
       "\n",
       "       bedroom_per_room  pop_per_house  \n",
       "1310           0.172255       3.191579  \n",
       "16156          0.411215       2.229167  \n",
       "10301          0.278742       2.443060  \n",
       "8823           0.301075       3.413333  \n",
       "10428          0.129220       3.365517  "
      ]
     },
     "execution_count": 20,
     "metadata": {},
     "output_type": "execute_result"
    }
   ],
   "source": [
    "# Create a copy of the training set and add three columns\n",
    "# with number of rooms per house, ratio of bedrooms over rooms, and number of people per house\n",
    "\n",
    "train_set2 = train_set.copy()\n",
    "train_set2['room_per_house'] = train_set2['total_rooms']/train_set2['households']\n",
    "train_set2['bedroom_per_room'] = train_set2['total_bedrooms']/train_set2['total_rooms']\n",
    "train_set2['pop_per_house'] = train_set2['population']/train_set2['households']\n",
    "train_set2.head()"
   ]
  },
  {
   "cell_type": "code",
   "execution_count": 21,
   "metadata": {
    "colab": {},
    "colab_type": "code",
    "id": "MfISVHRLyAPn"
   },
   "outputs": [
    {
     "data": {
      "text/html": [
       "<div>\n",
       "<style scoped>\n",
       "    .dataframe tbody tr th:only-of-type {\n",
       "        vertical-align: middle;\n",
       "    }\n",
       "\n",
       "    .dataframe tbody tr th {\n",
       "        vertical-align: top;\n",
       "    }\n",
       "\n",
       "    .dataframe thead th {\n",
       "        text-align: right;\n",
       "    }\n",
       "</style>\n",
       "<table border=\"1\" class=\"dataframe\">\n",
       "  <thead>\n",
       "    <tr style=\"text-align: right;\">\n",
       "      <th></th>\n",
       "      <th>longitude</th>\n",
       "      <th>latitude</th>\n",
       "      <th>housing_median_age</th>\n",
       "      <th>total_rooms</th>\n",
       "      <th>total_bedrooms</th>\n",
       "      <th>population</th>\n",
       "      <th>households</th>\n",
       "      <th>median_income</th>\n",
       "      <th>median_house_value</th>\n",
       "      <th>NEAR BAY</th>\n",
       "      <th>&lt;1H OCEAN</th>\n",
       "      <th>INLAND</th>\n",
       "      <th>NEAR OCEAN</th>\n",
       "      <th>ISLAND</th>\n",
       "      <th>room_per_house</th>\n",
       "      <th>bedroom_per_room</th>\n",
       "      <th>pop_per_house</th>\n",
       "    </tr>\n",
       "  </thead>\n",
       "  <tbody>\n",
       "    <tr>\n",
       "      <th>10163</th>\n",
       "      <td>-118.25</td>\n",
       "      <td>33.89</td>\n",
       "      <td>35.0</td>\n",
       "      <td>1582.0</td>\n",
       "      <td>391.0</td>\n",
       "      <td>1957.0</td>\n",
       "      <td>404.0</td>\n",
       "      <td>2.4537</td>\n",
       "      <td>91500.0</td>\n",
       "      <td>0.0</td>\n",
       "      <td>1.0</td>\n",
       "      <td>0.0</td>\n",
       "      <td>0.0</td>\n",
       "      <td>0.0</td>\n",
       "      <td>3.915842</td>\n",
       "      <td>0.247155</td>\n",
       "      <td>4.844059</td>\n",
       "    </tr>\n",
       "    <tr>\n",
       "      <th>6667</th>\n",
       "      <td>-119.42</td>\n",
       "      <td>36.35</td>\n",
       "      <td>20.0</td>\n",
       "      <td>1469.0</td>\n",
       "      <td>303.0</td>\n",
       "      <td>1031.0</td>\n",
       "      <td>259.0</td>\n",
       "      <td>1.6645</td>\n",
       "      <td>48000.0</td>\n",
       "      <td>0.0</td>\n",
       "      <td>0.0</td>\n",
       "      <td>1.0</td>\n",
       "      <td>0.0</td>\n",
       "      <td>0.0</td>\n",
       "      <td>5.671815</td>\n",
       "      <td>0.206263</td>\n",
       "      <td>3.980695</td>\n",
       "    </tr>\n",
       "    <tr>\n",
       "      <th>7931</th>\n",
       "      <td>-117.04</td>\n",
       "      <td>32.68</td>\n",
       "      <td>9.0</td>\n",
       "      <td>3087.0</td>\n",
       "      <td>609.0</td>\n",
       "      <td>1530.0</td>\n",
       "      <td>556.0</td>\n",
       "      <td>3.7750</td>\n",
       "      <td>125000.0</td>\n",
       "      <td>0.0</td>\n",
       "      <td>0.0</td>\n",
       "      <td>0.0</td>\n",
       "      <td>1.0</td>\n",
       "      <td>0.0</td>\n",
       "      <td>5.552158</td>\n",
       "      <td>0.197279</td>\n",
       "      <td>2.751799</td>\n",
       "    </tr>\n",
       "    <tr>\n",
       "      <th>2748</th>\n",
       "      <td>-118.13</td>\n",
       "      <td>34.07</td>\n",
       "      <td>20.0</td>\n",
       "      <td>2130.0</td>\n",
       "      <td>654.0</td>\n",
       "      <td>1870.0</td>\n",
       "      <td>578.0</td>\n",
       "      <td>2.3664</td>\n",
       "      <td>192200.0</td>\n",
       "      <td>0.0</td>\n",
       "      <td>1.0</td>\n",
       "      <td>0.0</td>\n",
       "      <td>0.0</td>\n",
       "      <td>0.0</td>\n",
       "      <td>3.685121</td>\n",
       "      <td>0.307042</td>\n",
       "      <td>3.235294</td>\n",
       "    </tr>\n",
       "    <tr>\n",
       "      <th>1456</th>\n",
       "      <td>-122.51</td>\n",
       "      <td>37.58</td>\n",
       "      <td>20.0</td>\n",
       "      <td>64.0</td>\n",
       "      <td>21.0</td>\n",
       "      <td>59.0</td>\n",
       "      <td>21.0</td>\n",
       "      <td>2.2375</td>\n",
       "      <td>450000.0</td>\n",
       "      <td>0.0</td>\n",
       "      <td>0.0</td>\n",
       "      <td>0.0</td>\n",
       "      <td>1.0</td>\n",
       "      <td>0.0</td>\n",
       "      <td>3.047619</td>\n",
       "      <td>0.328125</td>\n",
       "      <td>2.809524</td>\n",
       "    </tr>\n",
       "  </tbody>\n",
       "</table>\n",
       "</div>"
      ],
      "text/plain": [
       "       longitude  latitude  housing_median_age  total_rooms  total_bedrooms  \\\n",
       "10163    -118.25     33.89                35.0       1582.0           391.0   \n",
       "6667     -119.42     36.35                20.0       1469.0           303.0   \n",
       "7931     -117.04     32.68                 9.0       3087.0           609.0   \n",
       "2748     -118.13     34.07                20.0       2130.0           654.0   \n",
       "1456     -122.51     37.58                20.0         64.0            21.0   \n",
       "\n",
       "       population  households  median_income  median_house_value  NEAR BAY  \\\n",
       "10163      1957.0       404.0         2.4537             91500.0       0.0   \n",
       "6667       1031.0       259.0         1.6645             48000.0       0.0   \n",
       "7931       1530.0       556.0         3.7750            125000.0       0.0   \n",
       "2748       1870.0       578.0         2.3664            192200.0       0.0   \n",
       "1456         59.0        21.0         2.2375            450000.0       0.0   \n",
       "\n",
       "       <1H OCEAN  INLAND  NEAR OCEAN  ISLAND  room_per_house  \\\n",
       "10163        1.0     0.0         0.0     0.0        3.915842   \n",
       "6667         0.0     1.0         0.0     0.0        5.671815   \n",
       "7931         0.0     0.0         1.0     0.0        5.552158   \n",
       "2748         1.0     0.0         0.0     0.0        3.685121   \n",
       "1456         0.0     0.0         1.0     0.0        3.047619   \n",
       "\n",
       "       bedroom_per_room  pop_per_house  \n",
       "10163          0.247155       4.844059  \n",
       "6667           0.206263       3.980695  \n",
       "7931           0.197279       2.751799  \n",
       "2748           0.307042       3.235294  \n",
       "1456           0.328125       2.809524  "
      ]
     },
     "execution_count": 21,
     "metadata": {},
     "output_type": "execute_result"
    }
   ],
   "source": [
    "test_set2 = test_set.copy()\n",
    "test_set2['room_per_house'] = test_set2['total_rooms']/test_set2['households']\n",
    "test_set2['bedroom_per_room'] = test_set2['total_bedrooms']/test_set2['total_rooms']\n",
    "test_set2['pop_per_house'] = test_set2['population']/test_set2['households']\n",
    "test_set2.head()"
   ]
  },
  {
   "cell_type": "code",
   "execution_count": 22,
   "metadata": {
    "colab": {},
    "colab_type": "code",
    "id": "7KhjZKpwyAPq"
   },
   "outputs": [
    {
     "name": "stdout",
     "output_type": "stream",
     "text": [
      "RMSE =  58942.80249389639\n"
     ]
    }
   ],
   "source": [
    "# Create a new Linear Regression estimator on the new data frame, fit, predict and evaluate.\n",
    "\n",
    "lnr_regressor2 = LinearRegression()\n",
    "lnr_regressor2.fit(train_set2.iloc[:, [idx for idx in range(len(train_set2.columns)) if idx != 8]], train_set2['median_house_value'])\n",
    "prediction2 = lnr_regressor2.predict(test_set2.iloc[:, [idx for idx in range(len(test_set2.columns)) if idx != 8]])\n",
    "print('RMSE = ', np.sqrt(mean_squared_error(test_set2['median_house_value'], prediction2)))"
   ]
  },
  {
   "cell_type": "markdown",
   "metadata": {
    "colab_type": "text",
    "id": "dM6NvGJ9yAPs"
   },
   "source": [
    "Whilst the improvement is not that significant, it has shown that *feature engineering* is very useful."
   ]
  },
  {
   "cell_type": "markdown",
   "metadata": {
    "colab_type": "text",
    "id": "oLdMndvsyAPs"
   },
   "source": [
    "## Random Forest\n",
    "\n",
    "It is possible that the Linear Regression model is not powerful enough to learn from our dataset. We could try different regression models: say, the Random Forest Regression. With Scikit-Learn, we can try many different algorithms easily."
   ]
  },
  {
   "cell_type": "code",
   "execution_count": 23,
   "metadata": {
    "colab": {},
    "colab_type": "code",
    "id": "NVF9VZO7yAPt"
   },
   "outputs": [
    {
     "name": "stdout",
     "output_type": "stream",
     "text": [
      "RMSE =  43999.73089493983\n"
     ]
    }
   ],
   "source": [
    "from sklearn.ensemble import RandomForestRegressor\n",
    "\n",
    "frst_regressor1 = RandomForestRegressor()\n",
    "frst_regressor1.fit(train_set.iloc[:, [idx for idx in range(len(train_set.columns)) if idx != 8]], train_set['median_house_value'])\n",
    "prediction3 = frst_regressor1.predict(test_set.iloc[:, [idx for idx in range(len(test_set.columns)) if idx != 8]])\n",
    "print('RMSE = ', np.sqrt(mean_squared_error(test_set['median_house_value'], prediction3)))"
   ]
  },
  {
   "cell_type": "markdown",
   "metadata": {
    "colab_type": "text",
    "id": "zQy7BD_vyAPw"
   },
   "source": [
    "With the Forest Regression model, we have achieved a good improvement on the non-engineered dataset. Now, we could also try it on the engineered dataset."
   ]
  },
  {
   "cell_type": "code",
   "execution_count": 24,
   "metadata": {
    "colab": {},
    "colab_type": "code",
    "id": "KGvh15wQyAPw"
   },
   "outputs": [
    {
     "name": "stdout",
     "output_type": "stream",
     "text": [
      "RMSE =  45199.11202539131\n"
     ]
    }
   ],
   "source": [
    "from sklearn.ensemble import RandomForestRegressor\n",
    "\n",
    "frst_regressor2 = RandomForestRegressor()\n",
    "frst_regressor2.fit(train_set2.iloc[:, [idx for idx in range(len(train_set2.columns)) if idx != 8]], train_set2['median_house_value'])\n",
    "prediction4 = frst_regressor2.predict(test_set2.iloc[:, [idx for idx in range(len(test_set2.columns)) if idx != 8]])\n",
    "print('RMSE = ', np.sqrt(mean_squared_error(test_set2['median_house_value'], prediction4)))"
   ]
  }
 ],
 "metadata": {
  "colab": {
   "collapsed_sections": [],
   "name": "lab1-solution.ipynb",
   "provenance": [],
   "version": "0.3.2"
  },
  "kernelspec": {
   "display_name": "Python 3 (ipykernel)",
   "language": "python",
   "name": "python3"
  },
  "language_info": {
   "codemirror_mode": {
    "name": "ipython",
    "version": 3
   },
   "file_extension": ".py",
   "mimetype": "text/x-python",
   "name": "python",
   "nbconvert_exporter": "python",
   "pygments_lexer": "ipython3",
   "version": "3.9.12"
  }
 },
 "nbformat": 4,
 "nbformat_minor": 1
}
